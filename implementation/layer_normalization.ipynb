{
 "cells": [
  {
   "cell_type": "code",
   "execution_count": 8,
   "metadata": {},
   "outputs": [
    {
     "name": "stdout",
     "output_type": "stream",
     "text": [
      "(5, 20, 100)\n"
     ]
    },
    {
     "data": {
      "text/plain": [
       "(-8.881784197001253e-18, 0.9999999989043468)"
      ]
     },
     "execution_count": 8,
     "metadata": {},
     "output_type": "execute_result"
    }
   ],
   "source": [
    "import numpy as np\n",
    "\n",
    "\n",
    "class LayerNormalization:\n",
    "    def __init__(self, epsilon = 1e-9):\n",
    "        self.epsilon = epsilon\n",
    "        self.gamma = None\n",
    "        self.beta = None\n",
    "\n",
    "    def forward(self, X):\n",
    "        ''' \n",
    "        X has shape [batch, seq_len, input_size].\n",
    "        The layer normalization is conducted along the input_size dimension\n",
    "        '''\n",
    "        mean = np.mean(X, axis=-1, keepdims=True)\n",
    "        var = np.var(X, axis=-1, keepdims=True)\n",
    "\n",
    "        # Normalize\n",
    "        X_hat = (X-mean)/np.sqrt(var + self.epsilon)\n",
    "\n",
    "        # Auto scale and shift\n",
    "        if self.gamma is None:\n",
    "            self.gamma = np.ones_like(X)\n",
    "        if self.beta is None:\n",
    "            self.beta = np.zeros_like(X)\n",
    "        output = self.gamma * X_hat + self.beta\n",
    "\n",
    "        return output\n",
    "\n",
    "\n",
    "LN = LayerNormalization()\n",
    "X = np.random.randn(5,20,100)\n",
    "print(LN.forward(X).shape)\n",
    "\n",
    "np.mean(LN.forward(X)[0,0]), np.var(LN.forward(X)[0,0])"
   ]
  }
 ],
 "metadata": {
  "kernelspec": {
   "display_name": "pairs",
   "language": "python",
   "name": "python3"
  },
  "language_info": {
   "codemirror_mode": {
    "name": "ipython",
    "version": 3
   },
   "file_extension": ".py",
   "mimetype": "text/x-python",
   "name": "python",
   "nbconvert_exporter": "python",
   "pygments_lexer": "ipython3",
   "version": "3.12.2"
  }
 },
 "nbformat": 4,
 "nbformat_minor": 2
}
