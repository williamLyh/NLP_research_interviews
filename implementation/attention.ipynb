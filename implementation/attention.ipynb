{
 "cells": [
  {
   "cell_type": "code",
   "execution_count": 8,
   "metadata": {},
   "outputs": [
    {
     "name": "stdout",
     "output_type": "stream",
     "text": [
      "atten Dim:  torch.Size([10, 20, 20])\n",
      "attention_weights Dim:  torch.Size([10, 20, 20])\n",
      "attented_values Dim:  torch.Size([10, 20, 100])\n"
     ]
    },
    {
     "data": {
      "text/plain": [
       "torch.Size([10, 20, 100])"
      ]
     },
     "execution_count": 8,
     "metadata": {},
     "output_type": "execute_result"
    }
   ],
   "source": [
    "import torch\n",
    "import torch.nn as nn \n",
    "import math\n",
    "\n",
    "class SingleHeadAttention(nn.Module):\n",
    "    def __init__(self, d_model):\n",
    "        super(SingleHeadAttention, self).__init__()\n",
    "        self.d_model = d_model\n",
    "\n",
    "        self.query = nn.Linear(d_model, d_model)\n",
    "        self.key = nn.Linear(d_model, d_model)\n",
    "        self.value = nn.Linear(d_model, d_model)\n",
    "\n",
    "        self.softmax = nn.Softmax(dim=-1)\n",
    "\n",
    "    def forward(self, query, key, value):\n",
    "        ''' \n",
    "        query, key, value have dimension of [batch_size, seq_len, d_model]\n",
    "        '''\n",
    "\n",
    "        q = self.query(query)\n",
    "        k = self.key(key)\n",
    "        v = self.value(value)\n",
    "\n",
    "        attention = torch.matmul(q, k.transpose(1,2)) / math.sqrt(self.d_model)     # Attention has dimension of [batch_size, seq_len, seq_len]\n",
    "        print('atten Dim: ', attention.shape)\n",
    "        attention_weights = self.softmax(attention)     # Attention weights have dimension of [batch_size, seq_len, seq_len], as torch keeps dimension\n",
    "        print('attention_weights Dim: ', attention_weights.shape)\n",
    "        attented_values = torch.matmul(attention_weights, v)      # attented_values have dimension of [batch_size, seq_len, d_model]\n",
    "        print('attented_values Dim: ', attented_values.shape)\n",
    "        return attented_values\n",
    "\n",
    "\n",
    "atten_layer = SingleHeadAttention(100)\n",
    "\n",
    "query = torch.rand(10,20,100)\n",
    "key = torch.rand(10,20,100)\n",
    "value = torch.rand(10,20,100)\n",
    "\n",
    "attented_values = atten_layer(query, key, value)\n",
    "attented_values.shape"
   ]
  },
  {
   "cell_type": "code",
   "execution_count": 11,
   "metadata": {},
   "outputs": [
    {
     "name": "stdout",
     "output_type": "stream",
     "text": [
      "atten Dim:  torch.Size([10, 20, 20])\n",
      "attention_weights Dim:  torch.Size([10, 20, 20])\n",
      "attented_values Dim:  torch.Size([10, 20, 100])\n",
      "torch.Size([10, 20, 100])\n"
     ]
    }
   ],
   "source": [
    "import torch\n",
    "import torch.nn as nn \n",
    "import math\n",
    "\n",
    "class SingleHeadSelfAttentionLayer(nn.Module):\n",
    "    def __init__(self, d_model):\n",
    "        super(SingleHeadSelfAttentionLayer, self).__init__()\n",
    "        self.d_model = d_model\n",
    "        self.dim_query, self.dim_key = 50, 50\n",
    "        self.q_layer = nn.Linear(d_model, self.dim_query)\n",
    "        self.k_layer = nn.Linear(d_model, self.dim_key)\n",
    "        self.v_layer = nn.Linear(d_model, d_model)\n",
    "\n",
    "        self.softmax = nn.Softmax(dim=-1)\n",
    "\n",
    "    def forward(self, X):\n",
    "        ''' \n",
    "        X has dimension of [batch_size, seq_len, d_model]\n",
    "        '''\n",
    "        q = self.q_layer(X)\n",
    "        k = self.k_layer(X)\n",
    "        v = self.v_layer(X)\n",
    "\n",
    "        scores = torch.matmul(q, k.transpose(1,2)) / math.sqrt(self.dim_query)\n",
    "        print('atten Dim: ', scores.shape)\n",
    "\n",
    "        attention_weights = self.softmax(scores)\n",
    "        print('attention_weights Dim: ', attention_weights.shape)\n",
    "\n",
    "        attented_values = torch.matmul(attention_weights, v)\n",
    "        print('attented_values Dim: ', attented_values.shape)\n",
    "\n",
    "        return attented_values\n",
    "    \n",
    "self_atten = SingleHeadSelfAttentionLayer(100)\n",
    "\n",
    "X = torch.rand(10,20,100)\n",
    "attented_values = self_atten(X)\n",
    "print(attented_values.shape)\n",
    "\n"
   ]
  },
  {
   "cell_type": "code",
   "execution_count": 17,
   "metadata": {},
   "outputs": [
    {
     "name": "stdout",
     "output_type": "stream",
     "text": [
      "Dim atten_weights:  torch.Size([10, 20, 8, 20])\n",
      "Dim attended_values:  torch.Size([10, 20, 8, 128])\n",
      "Dim attended_values flatten:  torch.Size([10, 20, 1024])\n"
     ]
    },
    {
     "data": {
      "text/plain": [
       "torch.Size([10, 20, 1024])"
      ]
     },
     "execution_count": 17,
     "metadata": {},
     "output_type": "execute_result"
    }
   ],
   "source": [
    "import torch\n",
    "import torch.nn as nn\n",
    "import math\n",
    "\n",
    "class MultiHeadSelfAttentionLayer(nn.Module):\n",
    "    def __init__(self, d_model, num_heads):\n",
    "        super(MultiHeadSelfAttentionLayer, self).__init__()\n",
    "        self.d_model = d_model\n",
    "        self.num_heads = num_heads\n",
    "        self.d_head = d_model // num_heads\n",
    "\n",
    "        assert self.d_head * num_heads == d_model, \"d_model must be divisible by num_heads\"\n",
    "        \n",
    "        self.q_layer = nn.Linear(d_model, d_model)\n",
    "        self.k_layer = nn.Linear(d_model, d_model)\n",
    "        self.v_layer = nn.Linear(d_model, d_model)\n",
    "\n",
    "        self.fc = nn.Linear(d_model, d_model)\n",
    "\n",
    "    def forward(self, query, key, value):\n",
    "        ''' \n",
    "        query, key, value have dimension of [batch_size, seq_len, d_model]\n",
    "        '''\n",
    "\n",
    "        q = self.q_layer(query)\n",
    "        k = self.k_layer(key)\n",
    "        v = self.v_layer(value)\n",
    "\n",
    "        q = q.view(q.shape[0], q.shape[1], self.num_heads, self.d_head)\n",
    "        k = k.view(k.shape[0], k.shape[1], self.num_heads, self.d_head)\n",
    "        v = k.view(v.shape[0], v.shape[1], self.num_heads, self.d_head)\n",
    "\n",
    "        scores = torch.einsum('binh,bjnh->binj', q, k) / math.sqrt(self.d_head)      # shape: [batch_size, seq_len, num_heads, seq_len]. Note! Multi-head are attended on seq position.\n",
    "        atten_weights = torch.softmax(scores, dim=-1)\n",
    "        print('Dim atten_weights: ', atten_weights.shape)\n",
    "\n",
    "        attended_values = torch.einsum('binj,bjnh->binh', atten_weights, v)         # shape: [batch_size, seq_len, num_heads, d_head]\n",
    "        print('Dim attended_values: ', attended_values.shape)\n",
    "        attended_values = attended_values.contiguous().view(attended_values.shape[0], attended_values.shape[1], self.d_model)\n",
    "        print('Dim attended_values flatten: ', attended_values.shape)\n",
    "        output = self.fc(attended_values)\n",
    "\n",
    "        return output\n",
    "\n",
    "\n",
    "\n",
    "atten_layer = MultiHeadSelfAttentionLayer(1024, 8)\n",
    "\n",
    "query = torch.rand(10,20,1024)\n",
    "key = torch.rand(10,20,1024)\n",
    "value = torch.rand(10,20,1024)\n",
    "\n",
    "attented_values = atten_layer(query, key, value)\n",
    "attented_values.shape\n"
   ]
  }
 ],
 "metadata": {
  "kernelspec": {
   "display_name": "pairs",
   "language": "python",
   "name": "python3"
  },
  "language_info": {
   "codemirror_mode": {
    "name": "ipython",
    "version": 3
   },
   "file_extension": ".py",
   "mimetype": "text/x-python",
   "name": "python",
   "nbconvert_exporter": "python",
   "pygments_lexer": "ipython3",
   "version": "3.12.2"
  }
 },
 "nbformat": 4,
 "nbformat_minor": 2
}
