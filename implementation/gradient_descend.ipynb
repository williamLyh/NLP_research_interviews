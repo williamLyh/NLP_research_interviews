{
 "cells": [
  {
   "cell_type": "markdown",
   "metadata": {},
   "source": [
    "# GD for Linear Regression"
   ]
  },
  {
   "cell_type": "code",
   "execution_count": null,
   "metadata": {},
   "outputs": [],
   "source": [
    "import numpy as np\n",
    "import matplotlib.pyplot as plt\n",
    "\n",
    "def gradient_descent(X, y, learning_rate=0.01, iterations=1000):\n",
    "    m = len(y)\n",
    "    theta = np.zeros(2)\n",
    "    cost_history = np.zeros(iterations)\n",
    "    \n",
    "    for i in range(iterations):\n",
    "        h = theta[0] + theta[1] * X\n",
    "        \n",
    "        # Compute gradients\n",
    "        gradient_0 = (1/m) * np.sum(h - y)\n",
    "        gradient_1 = (1/m) * np.sum((h - y) * X)\n",
    "        \n",
    "        # Update parameters\n",
    "        theta[0] = theta[0] - learning_rate * gradient_0\n",
    "        theta[1] = theta[1] - learning_rate * gradient_1\n",
    "        \n",
    "        # Compute cost\n",
    "        cost_history[i] = (1/(2*m)) * np.sum((h - y)**2)\n",
    "    \n",
    "    return theta, cost_history\n",
    "\n",
    "# Generate some sample data\n",
    "np.random.seed(0)\n",
    "X = np.linspace(0, 10, 100)\n",
    "y = 2 * X + 1 + np.random.randn(100)\n",
    "\n",
    "# Run gradient descent\n",
    "theta, cost_history = gradient_descent(X, y)\n",
    "\n",
    "# Print results\n",
    "print(f\"Optimal parameters: theta_0 = {theta[0]:.4f}, theta_1 = {theta[1]:.4f}\")\n",
    "\n",
    "# Plot the results\n",
    "plt.figure(figsize=(12, 5))\n",
    "\n",
    "# Plot the data and the fitted line\n",
    "plt.subplot(121)\n",
    "plt.scatter(X, y, color='blue', label='Data')\n",
    "plt.plot(X, theta[0] + theta[1] * X, color='red', label='Fitted line')\n",
    "plt.xlabel('X')\n",
    "plt.ylabel('y')\n",
    "plt.legend()\n",
    "plt.title('Linear Regression with Gradient Descent')\n",
    "\n",
    "# Plot the cost history\n",
    "plt.subplot(122)\n",
    "plt.plot(range(len(cost_history)), cost_history)\n",
    "plt.xlabel('Iterations')\n",
    "plt.ylabel('Cost')\n",
    "plt.title('Cost History')\n",
    "\n",
    "plt.tight_layout()\n",
    "plt.show()"
   ]
  }
 ],
 "metadata": {
  "language_info": {
   "name": "python"
  }
 },
 "nbformat": 4,
 "nbformat_minor": 2
}
