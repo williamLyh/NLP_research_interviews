{
 "cells": [
  {
   "cell_type": "markdown",
   "id": "b9262770",
   "metadata": {},
   "source": [
    "# Cross Entropy Loss"
   ]
  },
  {
   "cell_type": "code",
   "execution_count": null,
   "id": "467564dc",
   "metadata": {},
   "outputs": [
    {
     "data": {
      "text/plain": [
       "-0.3635480396729776"
      ]
     },
     "execution_count": 10,
     "metadata": {},
     "output_type": "execute_result"
    }
   ],
   "source": [
    "import numpy as np\n",
    "\n",
    "def cross_entropy_loss(y_pred, y_ref, eps=1e-15):\n",
    "    '''\n",
    "    y_pred & y_ref have dimension of [N, D]\n",
    "    y_ref is one-hot labels\n",
    "    '''\n",
    "    y_pred = np.clip(y_pred, eps, 1-eps)\n",
    "    log_y_pred = np.log(y_pred)\n",
    "\n",
    "    total_loss = np.sum(log_y_pred * y_ref)\n",
    "    normalized_loss = total_loss/y_ref.shape[0]\n",
    "    return normalized_loss\n",
    "\n",
    "\n",
    "y_ref = np.array([\n",
    "    [1, 0, 0],  # 类别 0\n",
    "    [0, 1, 0],  # 类别 1\n",
    "    [0, 0, 1]   # 类别 2\n",
    "])\n",
    "\n",
    "y_pred = np.array([\n",
    "    [0.7, 0.2, 0.1],\n",
    "    [0.1, 0.8, 0.1],\n",
    "    [0.2, 0.2, 0.6]\n",
    "])\n",
    "\n",
    "cross_entropy_loss(y_pred, y_ref)"
   ]
  }
 ],
 "metadata": {
  "kernelspec": {
   "display_name": "py312",
   "language": "python",
   "name": "python3"
  },
  "language_info": {
   "codemirror_mode": {
    "name": "ipython",
    "version": 3
   },
   "file_extension": ".py",
   "mimetype": "text/x-python",
   "name": "python",
   "nbconvert_exporter": "python",
   "pygments_lexer": "ipython3",
   "version": "3.12.7"
  }
 },
 "nbformat": 4,
 "nbformat_minor": 5
}
