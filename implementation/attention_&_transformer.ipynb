{
 "cells": [
  {
   "cell_type": "markdown",
   "metadata": {},
   "source": [
    "# MultiHead Attention"
   ]
  },
  {
   "cell_type": "code",
   "execution_count": 8,
   "metadata": {},
   "outputs": [
    {
     "name": "stdout",
     "output_type": "stream",
     "text": [
      "atten Dim:  torch.Size([10, 20, 20])\n",
      "attention_weights Dim:  torch.Size([10, 20, 20])\n",
      "attented_values Dim:  torch.Size([10, 20, 100])\n"
     ]
    },
    {
     "data": {
      "text/plain": [
       "torch.Size([10, 20, 100])"
      ]
     },
     "execution_count": 8,
     "metadata": {},
     "output_type": "execute_result"
    }
   ],
   "source": [
    "import torch\n",
    "import torch.nn as nn \n",
    "import math\n",
    "\n",
    "class SingleHeadAttention(nn.Module):\n",
    "    def __init__(self, d_model):\n",
    "        super(SingleHeadAttention, self).__init__()\n",
    "        self.d_model = d_model\n",
    "\n",
    "        self.query = nn.Linear(d_model, d_model)\n",
    "        self.key = nn.Linear(d_model, d_model)\n",
    "        self.value = nn.Linear(d_model, d_model)\n",
    "\n",
    "        self.softmax = nn.Softmax(dim=-1)\n",
    "\n",
    "    def forward(self, query, key, value):\n",
    "        ''' \n",
    "        query, key, value have dimension of [batch_size, seq_len, d_model]\n",
    "        '''\n",
    "\n",
    "        q = self.query(query)\n",
    "        k = self.key(key)\n",
    "        v = self.value(value)\n",
    "\n",
    "        attention = torch.matmul(q, k.transpose(1,2)) / math.sqrt(self.d_model)     # Attention has dimension of [batch_size, seq_len, seq_len]\n",
    "        print('atten Dim: ', attention.shape)\n",
    "        attention_weights = self.softmax(attention)     # Attention weights have dimension of [batch_size, seq_len, seq_len], as torch keeps dimension\n",
    "        print('attention_weights Dim: ', attention_weights.shape)\n",
    "        attented_values = torch.matmul(attention_weights, v)      # attented_values have dimension of [batch_size, seq_len, d_model]\n",
    "        print('attented_values Dim: ', attented_values.shape)\n",
    "        return attented_values\n",
    "\n",
    "\n",
    "atten_layer = SingleHeadAttention(100)\n",
    "\n",
    "query = torch.rand(10,20,100)\n",
    "key = torch.rand(10,20,100)\n",
    "value = torch.rand(10,20,100)\n",
    "\n",
    "attented_values = atten_layer(query, key, value)\n",
    "attented_values.shape"
   ]
  },
  {
   "cell_type": "code",
   "execution_count": 11,
   "metadata": {},
   "outputs": [
    {
     "name": "stdout",
     "output_type": "stream",
     "text": [
      "atten Dim:  torch.Size([10, 20, 20])\n",
      "attention_weights Dim:  torch.Size([10, 20, 20])\n",
      "attented_values Dim:  torch.Size([10, 20, 100])\n",
      "torch.Size([10, 20, 100])\n"
     ]
    }
   ],
   "source": [
    "import torch\n",
    "import torch.nn as nn \n",
    "import math\n",
    "\n",
    "class SingleHeadSelfAttentionLayer(nn.Module):\n",
    "    def __init__(self, d_model):\n",
    "        super(SingleHeadSelfAttentionLayer, self).__init__()\n",
    "        self.d_model = d_model\n",
    "        self.dim_query, self.dim_key = 50, 50\n",
    "        self.q_layer = nn.Linear(d_model, self.dim_query)\n",
    "        self.k_layer = nn.Linear(d_model, self.dim_key)\n",
    "        self.v_layer = nn.Linear(d_model, d_model)\n",
    "\n",
    "        self.softmax = nn.Softmax(dim=-1)\n",
    "\n",
    "    def forward(self, X):\n",
    "        ''' \n",
    "        X has dimension of [batch_size, seq_len, d_model]\n",
    "        '''\n",
    "        q = self.q_layer(X)\n",
    "        k = self.k_layer(X)\n",
    "        v = self.v_layer(X)\n",
    "\n",
    "        scores = torch.matmul(q, k.transpose(1,2)) / math.sqrt(self.dim_query)\n",
    "        print('atten Dim: ', scores.shape)\n",
    "\n",
    "        attention_weights = self.softmax(scores)\n",
    "        print('attention_weights Dim: ', attention_weights.shape)\n",
    "\n",
    "        attented_values = torch.matmul(attention_weights, v)\n",
    "        print('attented_values Dim: ', attented_values.shape)\n",
    "\n",
    "        return attented_values\n",
    "    \n",
    "self_atten = SingleHeadSelfAttentionLayer(100)\n",
    "\n",
    "X = torch.rand(10,20,100)\n",
    "attented_values = self_atten(X)\n",
    "print(attented_values.shape)\n",
    "\n"
   ]
  },
  {
   "cell_type": "code",
   "execution_count": 17,
   "metadata": {},
   "outputs": [
    {
     "name": "stdout",
     "output_type": "stream",
     "text": [
      "Dim atten_weights:  torch.Size([10, 20, 8, 20])\n",
      "Dim attended_values:  torch.Size([10, 20, 8, 128])\n",
      "Dim attended_values flatten:  torch.Size([10, 20, 1024])\n"
     ]
    },
    {
     "data": {
      "text/plain": [
       "torch.Size([10, 20, 1024])"
      ]
     },
     "execution_count": 17,
     "metadata": {},
     "output_type": "execute_result"
    }
   ],
   "source": [
    "import torch\n",
    "import torch.nn as nn\n",
    "import math\n",
    "\n",
    "class MultiHeadSelfAttentionLayer(nn.Module):\n",
    "    def __init__(self, d_model, num_heads):\n",
    "        super(MultiHeadSelfAttentionLayer, self).__init__()\n",
    "        self.d_model = d_model\n",
    "        self.num_heads = num_heads\n",
    "        self.d_head = d_model // num_heads\n",
    "\n",
    "        assert self.d_head * num_heads == d_model, \"d_model must be divisible by num_heads\"\n",
    "        \n",
    "        self.q_layer = nn.Linear(d_model, d_model)\n",
    "        self.k_layer = nn.Linear(d_model, d_model)\n",
    "        self.v_layer = nn.Linear(d_model, d_model)\n",
    "\n",
    "        self.fc = nn.Linear(d_model, d_model)\n",
    "\n",
    "    def forward(self, query, key, value):\n",
    "        ''' \n",
    "        query, key, value have dimension of [batch_size, seq_len, d_model]\n",
    "        '''\n",
    "\n",
    "        q = self.q_layer(query)\n",
    "        k = self.k_layer(key)\n",
    "        v = self.v_layer(value)\n",
    "\n",
    "        q = q.view(q.shape[0], q.shape[1], self.num_heads, self.d_head)     # [batch_size, q_seq_len, num_heads, d_head]\n",
    "        k = k.view(k.shape[0], k.shape[1], self.num_heads, self.d_head)     # [batch_size, k_seq_len, num_heads, d_head]\n",
    "        v = v.view(v.shape[0], v.shape[1], self.num_heads, self.d_head)     # [batch_size, v_seq_len, num_heads, d_head]\n",
    "        # during auto-regressive decoding with self-attention, we usually have k_seq_len = v_seq_len\n",
    "        # However the q_seq_len should be 1, as we are decoding one token at a time.\n",
    "\n",
    "        # Note! Multi-head are attended on seq position.\n",
    "        scores = torch.einsum('binh,bjnh->binj', q, k) / math.sqrt(self.d_head)      # [batch_size, q_seq_len, num_heads, k_seq_len]. \n",
    "        atten_weights = torch.softmax(scores, dim=-1)\n",
    "        print('Dim atten_weights: ', atten_weights.shape)\n",
    "\n",
    "        attended_values = torch.einsum('binj,bjnh->binh', atten_weights, v)         # shape: [batch_size, q_seq_len, num_heads, d_head]\n",
    "        print('Dim attended_values: ', attended_values.shape)\n",
    "        attended_values = attended_values.contiguous().view(attended_values.shape[0], attended_values.shape[1], self.d_model)\n",
    "        print('Dim attended_values flatten: ', attended_values.shape)\n",
    "        output = self.fc(attended_values)\n",
    "\n",
    "        return output\n",
    "\n",
    "\n",
    "\n",
    "atten_layer = MultiHeadSelfAttentionLayer(1024, 8)\n",
    "\n",
    "query = torch.rand(10,20,1024)\n",
    "key = torch.rand(10,20,1024)\n",
    "value = torch.rand(10,20,1024)\n",
    "\n",
    "attented_values = atten_layer(query, key, value)\n",
    "attented_values.shape\n"
   ]
  },
  {
   "cell_type": "markdown",
   "metadata": {},
   "source": [
    "# Transformer layer "
   ]
  },
  {
   "cell_type": "markdown",
   "metadata": {},
   "source": [
    "This code implements a basic transformer layer with the following components:\n",
    "\n",
    "1. Multi-Head Attention: Uses PyTorch's built-in nn.MultiheadAttention.\n",
    "\n",
    "2. Feed-Forward Network: Two linear layers with a ReLU activation in between.\n",
    "\n",
    "3. Layer Normalization: Applied after both the attention and feed-forward parts.\n",
    "\n",
    "4. Residual Connections: Implemented by adding the input to the output of each sub-layer.\n",
    "\n",
    "5. Dropout: Applied to the outputs of both the attention and feed-forward parts."
   ]
  },
  {
   "cell_type": "code",
   "execution_count": null,
   "metadata": {},
   "outputs": [],
   "source": [
    "import torch\n",
    "import torch.nn as nn\n",
    "import torch.nn.functional as F\n",
    "\n",
    "class TransformerLayer(nn.Module):\n",
    "    def __init__(self, d_model, num_heads, d_ff, dropout=0.1):\n",
    "        super(TransformerLayer, self).__init__()\n",
    "        self.multi_head_attention = nn.MultiheadAttention(d_model, num_heads)\n",
    "        self.linear1 = nn.Linear(d_model, d_ff)\n",
    "        self.linear2 = nn.Linear(d_ff, d_model)\n",
    "        self.norm1 = nn.LayerNorm(d_model)\n",
    "        self.norm2 = nn.LayerNorm(d_model)\n",
    "        self.dropout = nn.Dropout(dropout)\n",
    "\n",
    "    def forward(self, x, mask=None):\n",
    "        # Multi-Head Attention\n",
    "        attn_output, _ = self.multi_head_attention(x, x, x, attn_mask=mask)\n",
    "        x = x + self.dropout(attn_output)\n",
    "        x = self.norm1(x)\n",
    "\n",
    "        # Feed Forward\n",
    "        ff_output = self.linear2(F.relu(self.linear1(x)))\n",
    "        x = x + self.dropout(ff_output)\n",
    "        x = self.norm2(x)\n",
    "\n",
    "        return x\n",
    "\n",
    "# Example usage\n",
    "d_model = 512  # Dimension of the model\n",
    "num_heads = 8  # Number of attention heads\n",
    "d_ff = 2048    # Dimension of the feed-forward network\n",
    "seq_length = 10\n",
    "batch_size = 32\n",
    "\n",
    "layer = TransformerLayer(d_model, num_heads, d_ff)\n",
    "input_tensor = torch.randn(seq_length, batch_size, d_model)\n",
    "output = layer(input_tensor)\n",
    "\n",
    "print(f\"Input shape: {input_tensor.shape}\")\n",
    "print(f\"Output shape: {output.shape}\")"
   ]
  },
  {
   "cell_type": "code",
   "execution_count": null,
   "metadata": {},
   "outputs": [],
   "source": []
  },
  {
   "cell_type": "code",
   "execution_count": 4,
   "metadata": {},
   "outputs": [
    {
     "data": {
      "text/plain": [
       "torch.Size([10, 50, 1024])"
      ]
     },
     "execution_count": 4,
     "metadata": {},
     "output_type": "execute_result"
    }
   ],
   "source": [
    "import torch\n",
    "from torch import nn\n",
    "import math\n",
    "\n",
    "\n",
    "\n",
    "class MultiHeadSelfAttentionLayer(nn.Module):\n",
    "    def __init__(self, h=12, dk=128):\n",
    "        super(MultiHeadSelfAttentionLayer, self).__init__()\n",
    "        self.h = h\n",
    "        self.dk = dk\n",
    "        d_model = h * dk\n",
    "        self.d_model = h * dk\n",
    "\n",
    "        self.Wq = nn.Linear(d_model, d_model)\n",
    "        self.Wk = nn.Linear(d_model, d_model)\n",
    "        self.Wv = nn.Linear(d_model, d_model)\n",
    "        self.softmax = nn.Softmax(dim=-1)\n",
    "\n",
    "        self.fc = nn.Linear(d_model, d_model)\n",
    "\n",
    "    def forward(self, x):\n",
    "        '''\n",
    "        x has shape [batch_size, seq_len, d_model]\n",
    "        '''\n",
    "        \n",
    "        # q. k, v have shape [batch_size, seq_len, d_model]\n",
    "        q = self.Wq(x)\n",
    "        k = self.Wk(x)\n",
    "        v = self.Wv(x)\n",
    "\n",
    "        # reshape q, k, v to [batch_size, seq_len, h, dk]\n",
    "        q = q.view(q.shape[0], q.shape[1], self.h, self.dk)\n",
    "        k = k.view(k.shape[0], k.shape[1], self.h, self.dk)\n",
    "        v = v.view(v.shape[0], v.shape[1], self.h, self.dk)\n",
    "        \n",
    "        # qk^T has shape [batch_size, h, seq_len, seq_len]\n",
    "        qk_T = torch.einsum('bphd,bqhd->bhpq', q, k) / math.sqrt(self.dk)\n",
    "        atten_scores = self.softmax(qk_T)  # attention scores has shape [batch_size, h, seq_len, seq_len]\n",
    "        weighted_v = torch.einsum('bhpq,bqhd->bphd', atten_scores, v)\n",
    "\n",
    "        weighted_v = weighted_v.contiguous().view(weighted_v.shape[0], weighted_v.shape[1], self.d_model)\n",
    "\n",
    "        output = self.fc(weighted_v)\n",
    "        return output\n",
    "\n",
    "        \n",
    "\n",
    "atten_layer = MultiHeadSelfAttentionLayer(dk=128, h=8)\n",
    "\n",
    "# query = torch.rand(10,20,1024)\n",
    "# key = torch.rand(10,20,1024)\n",
    "# value = torch.rand(10,20,1024)\n",
    "x = torch.rand(10,50,128*8)\n",
    "y = atten_layer(x)\n",
    "y.shape\n",
    "# attented_values = atten_layer(query, key, value)\n",
    "# attented_values.shape\n"
   ]
  },
  {
   "cell_type": "code",
   "execution_count": 7,
   "metadata": {},
   "outputs": [
    {
     "name": "stdout",
     "output_type": "stream",
     "text": [
      "b\n"
     ]
    }
   ],
   "source": [
    "a = []\n",
    "\n",
    "if a:\n",
    "    print('a')\n",
    "else:\n",
    "    print('b')"
   ]
  },
  {
   "cell_type": "code",
   "execution_count": null,
   "metadata": {},
   "outputs": [],
   "source": []
  },
  {
   "cell_type": "code",
   "execution_count": null,
   "metadata": {},
   "outputs": [
    {
     "name": "stdout",
     "output_type": "stream",
     "text": [
      "[[1, 2, 5, 0], [1, 2, 5, 1, 1, 0], [1, 2, 5, 1, 2, 3, 5, 7, 4, 6]]\n"
     ]
    }
   ],
   "source": [
    "# beam seaerch\n",
    "\n",
    "\n",
    "import numpy as np\n",
    "from typing import Callable, List\n",
    "import heapq\n",
    "\n",
    "# vocab_size, beam_width, max_len = input().split()\n",
    "vocab_size, beam_width, max_len = 8, 3, 10\n",
    "vocab_size, beam_width, max_len = int(vocab_size), int(beam_width), int(max_len)\n",
    "# prefix = [int(i) for i in input().split()]\n",
    "prefix = [1,2,5]\n",
    "\n",
    "# 用随机数模拟一个语言模型。它的输入 x 是整数组成的列表，表示输入给语言模型的单词 ID 序列；\n",
    "# 输出是一个形如 [vocab_size] 的一维 numpy 数组，且满足概率归一化条件，表示下一个词的概率分布。\n",
    "def language_model(x: List[int]) -> np.ndarray: # x 是整数 ID 形成的列表\n",
    "    np.random.seed(sum(x))\n",
    "    prob = np.random.rand(vocab_size)\n",
    "    prob[0] += np.random.rand() / vocab_size  # 增大一下 eos_id (0) 的概率，避免解码停不下来\n",
    "    prob = prob / prob.sum()  # 归一化一下，变成词表上的概率分布\n",
    "    return prob  # np.ndarray of size [vocab_size]\n",
    "\n",
    "\n",
    "# beam search\n",
    "# 返回值是一个包含 beam_width 个元素的序列，其第 k 个元素表示概率第 k 大的解码结果（不定长的整数 ID 组成的列表）\n",
    "def beam_search(model: Callable[[List[int]], np.ndarray], prefix: List[int], beam_width: int, eos_id=0, max_len=100) -> List[List[int]]:\n",
    "    beam = [(np.log(1.0), prefix)]    # (seq, log_prob)\n",
    "    for step in range(max_len-len(prefix)):\n",
    "        candidates = []\n",
    "        for score, seq in beam:\n",
    "            if seq[-1] == eos_id:\n",
    "                # candidates.append((score, seq))\n",
    "                heapq.heappush(candidates, (score, seq))\n",
    "                continue\n",
    "\n",
    "            prob = model(seq)\n",
    "            for i, p in enumerate(prob):\n",
    "                # candidates.append((score + np.log(p+1e-9), seq + [i]))\n",
    "                heapq.heappush(candidates, (score + np.log(p+1e-9), seq + [i]))\n",
    "        # candidates.sort(key=lambda x: x[0], reverse=True)\n",
    "        # candidates.sort(key=lambda x: x[1], reverse=True)\n",
    "        # beam = candidates[:beam_width]\n",
    "        beam = heapq.nlargest(beam_width, candidates, key=lambda x: x[0])\n",
    "\n",
    "    return [seq for _, seq in beam]\n",
    "\n",
    "\n",
    "# def beam_search(model: Callable[[List[int]], np.ndarray], prefix: List[int], beam_width: int, eos_id=0, max_len=100) -> List[List[int]]:\n",
    "#     beam = [(np.log(1.0), prefix)]  # (log_prob, seq)\n",
    "#     completed = []\n",
    "\n",
    "#     for step in range(max_len - len(prefix)):\n",
    "#         candidates = []\n",
    "#         for score, seq in beam:\n",
    "#             if seq[-1] == eos_id:  # If EOS, move to completed\n",
    "#                 completed.append((score, seq))\n",
    "#                 continue\n",
    "            \n",
    "#             prob = model(seq)  # Get next token probabilities\n",
    "#             top_indices = np.argpartition(-prob, beam_width)[:beam_width]  # Fast top-k selection\n",
    "\n",
    "#             for i in top_indices:\n",
    "#                 p = prob[i] + 1e-9  # Avoid log(0) issues\n",
    "#                 heapq.heappush(candidates, (score + np.log(p), seq + [i]))\n",
    "\n",
    "#         # Keep only top-k candidates\n",
    "#         beam = heapq.nlargest(beam_width, candidates, key=lambda x: x[0])\n",
    "\n",
    "#         # Stop if no active beams left\n",
    "#         if not beam:\n",
    "#             break\n",
    "\n",
    "#     # Return best results (include completed)\n",
    "#     final_candidates = completed + beam\n",
    "#     final_candidates.sort(key=lambda x: x[0], reverse=True)\n",
    "    \n",
    "#     return [seq for _, seq in final_candidates[:beam_width]]\n",
    "\n",
    "result = beam_search(language_model, prefix=prefix, beam_width=beam_width, max_len=max_len)\n",
    "print(result)\n",
    "# for seq in result:\n",
    "# \tprint(' '.join([str(i) for i in seq]))\n"
   ]
  }
 ],
 "metadata": {
  "kernelspec": {
   "display_name": "py312",
   "language": "python",
   "name": "python3"
  },
  "language_info": {
   "codemirror_mode": {
    "name": "ipython",
    "version": 3
   },
   "file_extension": ".py",
   "mimetype": "text/x-python",
   "name": "python",
   "nbconvert_exporter": "python",
   "pygments_lexer": "ipython3",
   "version": "3.12.7"
  }
 },
 "nbformat": 4,
 "nbformat_minor": 2
}
